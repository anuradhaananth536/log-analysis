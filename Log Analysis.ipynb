{
 "cells": [
  {
   "cell_type": "markdown",
   "metadata": {},
   "source": [
    "#### Starting log analysis using Python\n",
    "Now, its time to start our jupyter notebook and load .csv in pandas for further analysis. For our analysis, we will use the following libraries and import them and start of our program\n"
   ]
  },
  {
   "cell_type": "code",
   "execution_count": null,
   "metadata": {},
   "outputs": [],
   "source": [
    "import pandas as pd\n",
    "from matplotlib import plotly as plt\n",
    "import numpy as np\n",
    "import seaborn as sns\n",
    "import sklearn"
   ]
  },
  {
   "cell_type": "code",
   "execution_count": null,
   "metadata": {},
   "outputs": [],
   "source": [
    "df = pd.read_csv('C:\\Users\\Lenovo\\DownloadsLog Analysis.xlsx')"
   ]
  },
  {
   "cell_type": "code",
   "execution_count": null,
   "metadata": {},
   "outputs": [],
   "source": [
    "plt.scatter (df['ts'],df['resp_bytes'] , marker = 'x')\n",
    "plt.title('Scatter Plot Time vs Response Bytes')\n",
    "plt.xlabel('Time')\n",
    "plt.scatter (df['ts'],df['orig_bytes'])\n",
    "plt.title('Scatter Plot Time vs Origin Bytes')\n",
    "plt.ylim(0, 700)\n",
    "plt.xlim(1.5,1.5)\n",
    "plt.ylabel('orig_bytes and resp_bytes')           "
   ]
  },
  {
   "cell_type": "code",
   "execution_count": null,
   "metadata": {},
   "outputs": [],
   "source": []
  },
  {
   "cell_type": "code",
   "execution_count": null,
   "metadata": {},
   "outputs": [],
   "source": [
    "test_df = df[['id_resp_p','service','duration']]\n",
    "group_df = test_df.groupby(['id_resp_p','service'], as_index=False).mean()\n",
    "pivot.df = grp_df.pivot(index = 'service' , columns = 'id_resp_p')"
   ]
  },
  {
   "cell_type": "markdown",
   "metadata": {},
   "source": [
    "#### Now, this is what we will see in graphical representation using different colors to represent the magnitude of each value, as this will help us to read data more easily. We will use the seaborn library of python.\n"
   ]
  },
  {
   "cell_type": "code",
   "execution_count": null,
   "metadata": {},
   "outputs": [],
   "source": [
    "sns.heatmap(pivot_df,cmap = 'RdBu')"
   ]
  },
  {
   "cell_type": "code",
   "execution_count": null,
   "metadata": {},
   "outputs": [],
   "source": []
  }
 ],
 "metadata": {
  "kernelspec": {
   "display_name": "Python 3",
   "language": "python",
   "name": "python3"
  },
  "language_info": {
   "codemirror_mode": {
    "name": "ipython",
    "version": 3
   },
   "file_extension": ".py",
   "mimetype": "text/x-python",
   "name": "python",
   "nbconvert_exporter": "python",
   "pygments_lexer": "ipython3",
   "version": "3.7.0"
  }
 },
 "nbformat": 4,
 "nbformat_minor": 4
}
